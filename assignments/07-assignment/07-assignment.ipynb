{
 "cells": [
  {
   "attachments": {},
   "cell_type": "markdown",
   "metadata": {},
   "source": [
    "# Assignment 7"
   ]
  },
  {
   "attachments": {},
   "cell_type": "markdown",
   "metadata": {},
   "source": [
    "## Submit as an HTML file"
   ]
  },
  {
   "attachments": {},
   "cell_type": "markdown",
   "metadata": {},
   "source": [
    "<font size = \"5\">\n",
    "Print your name below"
   ]
  },
  {
   "cell_type": "code",
   "execution_count": 1,
   "metadata": {},
   "outputs": [
    {
     "name": "stdout",
     "output_type": "stream",
     "text": [
      "Allen\n"
     ]
    }
   ],
   "source": [
    "print(\"Allen\")"
   ]
  },
  {
   "attachments": {},
   "cell_type": "markdown",
   "metadata": {},
   "source": [
    "<font size = \"5\">\n",
    "\n",
    "Import the \"pandas\" and \"numpy\" library"
   ]
  },
  {
   "cell_type": "code",
   "execution_count": 2,
   "metadata": {},
   "outputs": [],
   "source": [
    "# Write your answer here:\n",
    "import pandas as pd\n",
    "import numpy as np\n"
   ]
  },
  {
   "attachments": {},
   "cell_type": "markdown",
   "metadata": {},
   "source": [
    "<font size = \"5\">\n",
    "\n",
    "(a) Replace values from intervals\n",
    "\n",
    "<font size = \"3\">\n",
    "\n",
    "- Import the dataset \"data_raw/students.csv\" to a new object \"students\"\n",
    "- Use \"pd.cut()\" to assign the column \"numericgrade\" to a letter grade <br>\n",
    "\n",
    "- Using the following grading scale: <br>\n",
    "\n",
    "<img src=\"figures/grading_scale.png\" alt=\"drawing\" width=\"600\"/>\n"
   ]
  },
  {
   "cell_type": "code",
   "execution_count": 5,
   "metadata": {},
   "outputs": [
    {
     "name": "stdout",
     "output_type": "stream",
     "text": [
      "    studentid  numericgrade lettergrade\n",
      "0           1            61           D\n",
      "1           2             0         NaN\n",
      "2           3            14           F\n",
      "3           4            57           F\n",
      "4           5            72           C\n",
      "5           6            93           A\n",
      "6           7            40           F\n",
      "7           8            11           F\n",
      "8           9             3           F\n",
      "9          10            63           D\n",
      "10         11             7           F\n",
      "11         12            46           F\n",
      "12         13            75           C\n",
      "13         14            95           A\n",
      "14         15            22           F\n",
      "15         16            40           F\n",
      "16         17            53           F\n",
      "17         18            57           F\n",
      "18         19            82           B\n",
      "19         20            50           F\n",
      "20         21             8           F\n",
      "21         22            87           B\n",
      "22         23            82           B\n",
      "23         24            30           F\n",
      "24         25            62           D\n"
     ]
    }
   ],
   "source": [
    "dataset = pd.DataFrame()\n",
    "students = pd.read_csv(\"data_raw/students.csv\")\n",
    "bins = [0, 60, 70, 80, 90, 100]  # Define the numeric grade intervals\n",
    "labels = ['F', 'D', 'C', 'B', 'A']  # Corresponding letter grades\n",
    "\n",
    "#Use pd.cut() to assign letter grades\n",
    "students['lettergrade'] = pd.cut(students['numericgrade'], bins=bins, labels=labels, right=True)\n",
    "\n",
    "# Display the updated DataFrame\n",
    "print(students)"
   ]
  },
  {
   "attachments": {},
   "cell_type": "markdown",
   "metadata": {},
   "source": [
    "<font size = \"5\">\n",
    "\n",
    "For questions (b)-(e) use \"results.csv\", <br>\n",
    "a dataset on competitive car racing\n",
    "\n",
    "Import the dataset \"data_raw/results.csv\" to <br>\n",
    " a new object \"results\""
   ]
  },
  {
   "cell_type": "code",
   "execution_count": 6,
   "metadata": {},
   "outputs": [],
   "source": [
    "# Write your own code\n",
    "results = pd.read_csv(\"data_raw/results.csv\")\n"
   ]
  },
  {
   "attachments": {},
   "cell_type": "markdown",
   "metadata": {},
   "source": [
    "<font size = \"5\">\n",
    "\n",
    "(b) Check column types\n",
    "\n",
    "<font size = \"3\">\n",
    "\n",
    "- View the dataset\n",
    "- Use the function \"results.dtypes\" to get the column types\n",
    "- Search for the \"results\" table in \"codebook/f1_codebook.pdf\".\n",
    "- Does the type of the \"time\" column agree with the codebook? <br>\n",
    "i.e. is it an integer, float, or string/object?\n",
    "\n",
    "\n",
    "HINT: See Lectures 12 and 14 for how to interpret the codebook\n"
   ]
  },
  {
   "cell_type": "code",
   "execution_count": 13,
   "metadata": {},
   "outputs": [
    {
     "name": "stdout",
     "output_type": "stream",
     "text": [
      "<class 'pandas.core.frame.DataFrame'>\n",
      "RangeIndex: 25840 entries, 0 to 25839\n",
      "Data columns (total 18 columns):\n",
      " #   Column           Non-Null Count  Dtype  \n",
      "---  ------           --------------  -----  \n",
      " 0   resultId         25840 non-null  int64  \n",
      " 1   raceId           25840 non-null  int64  \n",
      " 2   driverId         25840 non-null  int64  \n",
      " 3   constructorId    25840 non-null  int64  \n",
      " 4   number           25840 non-null  object \n",
      " 5   grid             25840 non-null  int64  \n",
      " 6   position         25840 non-null  object \n",
      " 7   positionText     25840 non-null  object \n",
      " 8   positionOrder    25840 non-null  int64  \n",
      " 9   points           25840 non-null  float64\n",
      " 10  laps             25840 non-null  int64  \n",
      " 11  time             25840 non-null  object \n",
      " 12  milliseconds     25840 non-null  object \n",
      " 13  fastestLap       25840 non-null  object \n",
      " 14  rank             25840 non-null  object \n",
      " 15  fastestLapTime   25840 non-null  object \n",
      " 16  fastestLapSpeed  25840 non-null  object \n",
      " 17  statusId         25840 non-null  int64  \n",
      "dtypes: float64(1), int64(8), object(9)\n",
      "memory usage: 3.5+ MB\n",
      "None\n",
      "resultId             int64\n",
      "raceId               int64\n",
      "driverId             int64\n",
      "constructorId        int64\n",
      "number              object\n",
      "grid                 int64\n",
      "position            object\n",
      "positionText        object\n",
      "positionOrder        int64\n",
      "points             float64\n",
      "laps                 int64\n",
      "time                object\n",
      "milliseconds        object\n",
      "fastestLap          object\n",
      "rank                object\n",
      "fastestLapTime      object\n",
      "fastestLapSpeed     object\n",
      "statusId             int64\n",
      "dtype: object\n"
     ]
    }
   ],
   "source": [
    "# Write your own code here\n",
    "# Note: When you run \"results.dtypes\" you will get the type (int, float, object)\n",
    "# Object represents columns coded as strings.\n",
    "\n",
    "print(results.info())\n",
    "\n",
    "print(results.dtypes)\n",
    "\n",
    "\n",
    "\n"
   ]
  },
  {
   "attachments": {},
   "cell_type": "markdown",
   "metadata": {},
   "source": [
    "<font size = \"5\">\n",
    "\n",
    "(c) Clean a column\n",
    "\n",
    "<font size = \"3\">\n",
    "\n",
    "- Import the dataset \"data_raw/results.csv\" to a new object \"results\"\n",
    "- Our goal is to replace any string values in the column \"milliseconds\" <br>\n",
    "to missing values (NaNs) and covert to numeric\n",
    "- To do so\n",
    "    - \"Extract list of non-numeric values\"\n",
    "    - \"Replace certain values\"\n",
    "    - \"Convert column to numeric\"\n",
    "    - \"Display\"\n",
    " \n"
   ]
  },
  {
   "cell_type": "code",
   "execution_count": 31,
   "metadata": {},
   "outputs": [
    {
     "name": "stdout",
     "output_type": "stream",
     "text": [
      "['\\\\N']\n",
      "   milliseconds\n",
      "0     5690616.0\n",
      "1     5696094.0\n",
      "2     5698779.0\n",
      "3     5707797.0\n",
      "4     5708630.0\n"
     ]
    },
    {
     "name": "stderr",
     "output_type": "stream",
     "text": [
      "/var/folders/t5/72w98jy14hgfvdlr8j64xk740000gn/T/ipykernel_60177/273926828.py:12: FutureWarning: A value is trying to be set on a copy of a DataFrame or Series through chained assignment using an inplace method.\n",
      "The behavior will change in pandas 3.0. This inplace method will never work because the intermediate object on which we are setting values always behaves as a copy.\n",
      "\n",
      "For example, when doing 'df[col].method(value, inplace=True)', try using 'df.method({col: value}, inplace=True)' or df[col] = df[col].method(value) instead, to perform the operation inplace on the original object.\n",
      "\n",
      "\n",
      "  results['milliseconds'].replace('invalid', np.nan, inplace=True)\n"
     ]
    }
   ],
   "source": [
    "# Write your own code here\n",
    "\n",
    "\n",
    "results = pd.read_csv(\"data_raw/results.csv\")\n",
    "\n",
    "non_numeric_milliseconds = results[~results['milliseconds'].apply(lambda x: pd.to_numeric(x, errors='coerce')).notnull()]\n",
    "\n",
    "# Display non-numeric values\n",
    "print(non_numeric_milliseconds['milliseconds'].unique())\n",
    "\n",
    "# Replace string values in the milliseconds column \n",
    "results['milliseconds'].replace('invalid', np.nan, inplace=True)\n",
    "\n",
    "# Convert the 'milliseconds' column to numeric, forcing non-numeric values to NaN\n",
    "results['milliseconds'] = pd.to_numeric(results['milliseconds'], errors='coerce')\n",
    "\n",
    "print(results[['milliseconds']].head())\n",
    "\n"
   ]
  },
  {
   "attachments": {},
   "cell_type": "markdown",
   "metadata": {},
   "source": [
    "<font size = \"5\">\n",
    "\n",
    "(d) Groupby + Aggregate\n",
    "\n",
    "<font size = \"3\">\n",
    "\n",
    "- Compute the mean and standard deviation of \"laps\", <br>\n",
    "grouping by \"constructorId\". Store the new dataset <br>\n",
    "as \"df_aggCon_pos\"\n",
    "- Sort the aggregate dataset in decending <br>\n",
    "order of mean laps using \".sort_values()\"\n",
    "\n"
   ]
  },
  {
   "cell_type": "code",
   "execution_count": 32,
   "metadata": {},
   "outputs": [
    {
     "name": "stdout",
     "output_type": "stream",
     "text": [
      "   constructorId  mean_laps   std_laps\n",
      "0              1  50.522119  22.762168\n",
      "1              2  56.700000  14.541283\n",
      "2              3  51.283912  20.950131\n",
      "3              4  48.715375  21.690521\n",
      "4              5  50.322761  19.914920\n",
      "     constructorId   mean_laps   std_laps\n",
      "146            149  198.500000   2.121320\n",
      "109            112  197.000000   4.242641\n",
      "106            109  184.285714  32.912583\n",
      "116            119  178.666667  36.950417\n",
      "105            108  163.764706  63.148168\n"
     ]
    }
   ],
   "source": [
    "# Write your own code\n",
    "df_aggCon_pos = results.groupby('constructorId').agg(\n",
    "    mean_laps=('laps', 'mean'),\n",
    "    std_laps=('laps', 'std')\n",
    ").reset_index()\n",
    "\n",
    "# Display the aggregated dataset\n",
    "print(df_aggCon_pos.head())\n",
    "\n",
    "# Sort by 'mean_laps' in descending order\n",
    "df_aggCon_pos = df_aggCon_pos.sort_values(by='mean_laps', ascending=False)\n",
    "\n",
    "# Display the sorted dataset\n",
    "print(df_aggCon_pos.head())\n",
    "\n",
    "\n"
   ]
  },
  {
   "attachments": {},
   "cell_type": "markdown",
   "metadata": {},
   "source": [
    "<font size = \"5\" >\n",
    "\n",
    "(e) Query + Groupby + Aggregate\n",
    "\n",
    "<font size = \"3\">\n",
    "\n",
    "- Use \".query()\" to subset observations with <br>\n",
    "'race_id >= 150'\n",
    "- Compute the mean and standard deviation of \"position\", <br>\n",
    "grouping by \"constructorId\". Store the new dataset <br>\n",
    "as \"df_subAggCon_pos\"\n"
   ]
  },
  {
   "cell_type": "code",
   "execution_count": 33,
   "metadata": {},
   "outputs": [
    {
     "name": "stdout",
     "output_type": "stream",
     "text": [
      "   constructorId  mean_position  std_position\n",
      "0              1       6.121634      4.294358\n",
      "1              3       7.983836      5.509701\n",
      "2              4       8.617834      4.388534\n",
      "3              5      11.430868      3.157308\n",
      "4              6       4.733661      3.395834\n"
     ]
    }
   ],
   "source": [
    "# Write your own code\n",
    "subset_results = results.query('raceId >= 150')\n",
    "\n",
    "# Convert the 'position' column to numeric, coercing non-numeric values to NaN\n",
    "results['position'] = pd.to_numeric(results['position'], errors='coerce')\n",
    "\n",
    "# Subset the data where 'race_id' is greater than or equal to 150\n",
    "subset_results = results.query('raceId >= 150')\n",
    "\n",
    "# Drop rows where 'position' is NaN \n",
    "subset_results = subset_results.dropna(subset=['position'])\n",
    "\n",
    "# Group by 'constructorId' and compute the mean and standard deviation for 'position'\n",
    "df_subAggCon_pos = subset_results.groupby('constructorId').agg(\n",
    "    mean_position=('position', 'mean'),\n",
    "    std_position=('position', 'std')\n",
    ").reset_index()\n",
    "\n",
    "# Display the aggregated dataset\n",
    "print(df_subAggCon_pos.head())\n",
    "\n"
   ]
  }
 ],
 "metadata": {
  "kernelspec": {
   "display_name": "base",
   "language": "python",
   "name": "python3"
  },
  "language_info": {
   "codemirror_mode": {
    "name": "ipython",
    "version": 3
   },
   "file_extension": ".py",
   "mimetype": "text/x-python",
   "name": "python",
   "nbconvert_exporter": "python",
   "pygments_lexer": "ipython3",
   "version": "3.12.4"
  },
  "orig_nbformat": 4,
  "vscode": {
   "interpreter": {
    "hash": "45fc1f684f6f416f40889115beff3ddf69879b64cf4bfee48cb72a61e9d15d1a"
   }
  }
 },
 "nbformat": 4,
 "nbformat_minor": 2
}
