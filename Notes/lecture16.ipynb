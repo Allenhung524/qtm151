{
 "cells": [
  {
   "cell_type": "code",
   "execution_count": null,
   "metadata": {},
   "outputs": [],
   "source": [
    "dict_rename = {\"name\": \"race_name\"}\n",
    "races_raw.rename(columns = dict_rename).head()\n",
    "races = races_raw.rename(columns = dict_rename)\n",
    "races.columns"
   ]
  }
 ],
 "metadata": {
  "language_info": {
   "name": "python"
  }
 },
 "nbformat": 4,
 "nbformat_minor": 2
}
