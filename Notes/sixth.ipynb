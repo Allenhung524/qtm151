{
 "cells": [
  {
   "cell_type": "code",
   "execution_count": 1,
   "metadata": {},
   "outputs": [
    {
     "name": "stdout",
     "output_type": "stream",
     "text": [
      "      mpg  cylinders  displacement horsepower  weight  acceleration vehicle_id\n",
      "28    9.0          8           304        193    4732          18.5  H-1690088\n",
      "25   10.0          8           360        215    4615          14.0  F-1690055\n",
      "26   10.0          8           307        200    4376          15.0  C-1690066\n",
      "103  11.0          8           400        150    4997          14.0  C-1690913\n",
      "124  11.0          8           350        180    3664          11.0  O-1691144\n",
      "..    ...        ...           ...        ...     ...           ...        ...\n",
      "326  43.4          4            90         48    2335          23.7  V-1693366\n",
      "394  44.0          4            97         52    2130          24.6  V-1694114\n",
      "325  44.3          4            90         48    2085          21.7  V-1693355\n",
      "329  44.6          4            91         67    1850          13.8  H-1693399\n",
      "322  46.6          4            86         65    2110          17.9  M-1693322\n",
      "\n",
      "[398 rows x 7 columns]\n"
     ]
    }
   ],
   "source": [
    "#Create a new datate called car_ascendingmpg which sorts cars from lowest to highest mpg\n",
    "# Subset the data of 5 cars with the lowest “mpg”\n",
    "import pandas as pd\n",
    "df = pd.read_csv('/Users/allenhung/Documents/GitHub/qtm151/lectures/lecture-11/data_raw/features.csv')\n",
    "df[['weight', 'acceleration']]\n",
    "car_ascendingmpg = df.sort_values(by = \"mpg\")\n",
    "car_ascendingmpg.iloc[0:5]\n",
    "print(car_ascendingmpg)\n"
   ]
  }
 ],
 "metadata": {
  "kernelspec": {
   "display_name": "base",
   "language": "python",
   "name": "python3"
  },
  "language_info": {
   "codemirror_mode": {
    "name": "ipython",
    "version": 3
   },
   "file_extension": ".py",
   "mimetype": "text/x-python",
   "name": "python",
   "nbconvert_exporter": "python",
   "pygments_lexer": "ipython3",
   "version": "3.12.4"
  }
 },
 "nbformat": 4,
 "nbformat_minor": 2
}
