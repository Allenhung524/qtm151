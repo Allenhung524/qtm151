{
 "cells": [
  {
   "cell_type": "code",
   "execution_count": 1,
   "metadata": {},
   "outputs": [
    {
     "ename": "NameError",
     "evalue": "name 'dataset' is not defined",
     "output_type": "error",
     "traceback": [
      "\u001b[0;31m---------------------------------------------------------------------------\u001b[0m",
      "\u001b[0;31mNameError\u001b[0m                                 Traceback (most recent call last)",
      "Cell \u001b[0;32mIn[1], line 6\u001b[0m\n\u001b[1;32m      3\u001b[0m subset_above2 \u001b[38;5;241m=\u001b[39m pd\u001b[38;5;241m.\u001b[39mDataFrame()\n\u001b[1;32m      5\u001b[0m \u001b[38;5;66;03m# Subset the records with y >= 2\u001b[39;00m\n\u001b[0;32m----> 6\u001b[0m subset_above2 \u001b[38;5;241m=\u001b[39m dataset\u001b[38;5;241m.\u001b[39mquery(\u001b[38;5;124m\"\u001b[39m\u001b[38;5;124my >= 2\u001b[39m\u001b[38;5;124m\"\u001b[39m)\n\u001b[1;32m      8\u001b[0m \u001b[38;5;66;03m# Count the original rows\u001b[39;00m\n\u001b[1;32m      9\u001b[0m original_rows \u001b[38;5;241m=\u001b[39m \u001b[38;5;28mlen\u001b[39m(dataset)\n",
      "\u001b[0;31mNameError\u001b[0m: name 'dataset' is not defined"
     ]
    }
   ],
   "source": [
    "import pandas as pd\n",
    "# Create the new dataset\n",
    "subset_above2 = pd.DataFrame()\n",
    "\n",
    "# Subset the records with y >= 2\n",
    "subset_above2 = dataset.query(\"y >= 2\")\n",
    "\n",
    "# Count the original rows\n",
    "original_rows = len(dataset)\n",
    "\n",
    "# Count the subsetted rows\n",
    "subsetted_rows = len(subset_above2)\n",
    "\n",
    "# Compute the proportion of subsetted observations\n",
    "proportion = subsetted_rows / original_rows\n",
    "proportion"
   ]
  }
 ],
 "metadata": {
  "kernelspec": {
   "display_name": "base",
   "language": "python",
   "name": "python3"
  },
  "language_info": {
   "codemirror_mode": {
    "name": "ipython",
    "version": 3
   },
   "file_extension": ".py",
   "mimetype": "text/x-python",
   "name": "python",
   "nbconvert_exporter": "python",
   "pygments_lexer": "ipython3",
   "version": "3.12.4"
  }
 },
 "nbformat": 4,
 "nbformat_minor": 2
}
